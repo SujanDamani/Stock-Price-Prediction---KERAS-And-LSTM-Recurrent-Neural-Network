{
  "nbformat": 4,
  "nbformat_minor": 0,
  "metadata": {
    "colab": {
      "name": "Stock Price Prediction - KERAS And LSTM Recurrent Neural Network.ipynb",
      "provenance": [],
      "collapsed_sections": [],
      "authorship_tag": "ABX9TyMcH1QdgPwKiKz0fIms9CZ8"
    },
    "kernelspec": {
      "name": "python3",
      "display_name": "Python 3"
    }
  },
  "cells": [
    {
      "cell_type": "markdown",
      "metadata": {
        "id": "zNJJWFkfuse8",
        "colab_type": "text"
      },
      "source": [
        "###Recurrent Neural Network\n",
        "###Data Preprocessing\n",
        "###Importing the libraries"
      ]
    },
    {
      "cell_type": "code",
      "metadata": {
        "id": "fzChaaPZu90p",
        "colab_type": "code",
        "colab": {}
      },
      "source": [
        "import numpy as np\n",
        "import matplotlib.pyplot as plt\n",
        "import pandas as pd"
      ],
      "execution_count": 1,
      "outputs": []
    },
    {
      "cell_type": "markdown",
      "metadata": {
        "id": "YZ0Wt-4GvY5Y",
        "colab_type": "text"
      },
      "source": [
        "### Importing the training set\n",
        "\n",
        "\n",
        "\n"
      ]
    },
    {
      "cell_type": "code",
      "metadata": {
        "id": "qQoFXDG6dacf",
        "colab_type": "code",
        "colab": {
          "base_uri": "https://localhost:8080/",
          "height": 255
        },
        "outputId": "3b05448c-a198-44e7-b81a-35878fa54ab8"
      },
      "source": [
        "dataset_train = pd.read_csv('Google_Stock_Price_Train.csv')\n",
        "training_set = dataset_train.iloc[:, 1:2].values\n",
        "print(dataset_train)\n"
      ],
      "execution_count": null,
      "outputs": [
        {
          "output_type": "stream",
          "text": [
            "            Date    Open    High     Low   Close      Volume  Unnamed: 6\n",
            "0       1/3/2012  325.25  332.83  324.97  663.59   7,380,500         NaN\n",
            "1       1/4/2012  331.27  333.87  329.08  666.45   5,749,400         NaN\n",
            "2       1/5/2012  329.83  330.75  326.89  657.21   6,590,300         NaN\n",
            "3       1/6/2012  328.34  328.77  323.68  648.24   5,405,900         NaN\n",
            "4       1/9/2012  322.04  322.29  309.46  620.76  11,688,800         NaN\n",
            "...          ...     ...     ...     ...     ...         ...         ...\n",
            "1253  12/23/2016  790.90  792.74  787.28  789.91     623,400         NaN\n",
            "1254  12/27/2016  790.68  797.86  787.66  791.55     789,100         NaN\n",
            "1255  12/28/2016  793.70  794.23  783.20  785.05   1,153,800         NaN\n",
            "1256  12/29/2016  783.33  785.93  778.92  782.79     744,300         NaN\n",
            "1257  12/30/2016  782.75  782.78  770.41  771.82   1,770,000         NaN\n",
            "\n",
            "[1258 rows x 7 columns]\n"
          ],
          "name": "stdout"
        }
      ]
    },
    {
      "cell_type": "markdown",
      "metadata": {
        "id": "GmuD8gOcvi5Z",
        "colab_type": "text"
      },
      "source": [
        "### Feature Scaling\n"
      ]
    },
    {
      "cell_type": "code",
      "metadata": {
        "id": "TFh_o1aGde9q",
        "colab_type": "code",
        "colab": {
          "base_uri": "https://localhost:8080/",
          "height": 136
        },
        "outputId": "4974ce24-42ca-4a9b-a57b-29be0b4c5cb2"
      },
      "source": [
        "from sklearn.preprocessing import MinMaxScaler\n",
        "sc = MinMaxScaler(feature_range = (0, 1))\n",
        "training_set_scaled = sc.fit_transform(training_set)\n",
        "print(training_set_scaled)"
      ],
      "execution_count": null,
      "outputs": [
        {
          "output_type": "stream",
          "text": [
            "[[0.08581368]\n",
            " [0.09701243]\n",
            " [0.09433366]\n",
            " ...\n",
            " [0.95725128]\n",
            " [0.93796041]\n",
            " [0.93688146]]\n"
          ],
          "name": "stdout"
        }
      ]
    },
    {
      "cell_type": "markdown",
      "metadata": {
        "id": "s01ZCPsAvoYt",
        "colab_type": "text"
      },
      "source": [
        "### Creating a data structure with 60 timesteps and 1 output\n"
      ]
    },
    {
      "cell_type": "code",
      "metadata": {
        "id": "cSee7gvfdzY3",
        "colab_type": "code",
        "colab": {}
      },
      "source": [
        "X_train = []\n",
        "y_train = []\n",
        "for i in range(60, 1258):\n",
        "    X_train.append(training_set_scaled[i-60:i, 0])\n",
        "    y_train.append(training_set_scaled[i, 0])\n",
        "X_train, y_train = np.array(X_train), np.array(y_train)"
      ],
      "execution_count": null,
      "outputs": []
    },
    {
      "cell_type": "markdown",
      "metadata": {
        "id": "-k6zPAAlvtXu",
        "colab_type": "text"
      },
      "source": [
        "### Reshaping\n"
      ]
    },
    {
      "cell_type": "code",
      "metadata": {
        "id": "j3YBuscbiFQd",
        "colab_type": "code",
        "colab": {}
      },
      "source": [
        "X_train = np.reshape(X_train, (X_train.shape[0], X_train.shape[1], 1))"
      ],
      "execution_count": null,
      "outputs": []
    },
    {
      "cell_type": "markdown",
      "metadata": {
        "id": "hZtmj7ebv1nV",
        "colab_type": "text"
      },
      "source": [
        "###Building the RNN\n",
        "### Importing the Keras libraries and packages"
      ]
    },
    {
      "cell_type": "code",
      "metadata": {
        "id": "ynwB_sPRiJE3",
        "colab_type": "code",
        "colab": {}
      },
      "source": [
        "from keras.models import Sequential\n",
        "from keras.layers import Dense\n",
        "from keras.layers import LSTM\n",
        "from keras.layers import Dropout\n"
      ],
      "execution_count": null,
      "outputs": []
    },
    {
      "cell_type": "markdown",
      "metadata": {
        "id": "wvJgNMamwCf2",
        "colab_type": "text"
      },
      "source": [
        "### Initialising the RNN\n"
      ]
    },
    {
      "cell_type": "code",
      "metadata": {
        "id": "iNCY8VHpiPsQ",
        "colab_type": "code",
        "colab": {}
      },
      "source": [
        "regressor = Sequential()"
      ],
      "execution_count": null,
      "outputs": []
    },
    {
      "cell_type": "markdown",
      "metadata": {
        "id": "1xELsD3-wFe2",
        "colab_type": "text"
      },
      "source": [
        "### Adding the first LSTM layer and some Dropout regularisation\n"
      ]
    },
    {
      "cell_type": "code",
      "metadata": {
        "id": "i73uG5kBiiKM",
        "colab_type": "code",
        "colab": {}
      },
      "source": [
        "regressor.add(LSTM(units = 50, return_sequences = True, input_shape = (X_train.shape[1], 1)))\n",
        "regressor.add(Dropout(0.2))"
      ],
      "execution_count": null,
      "outputs": []
    },
    {
      "cell_type": "markdown",
      "metadata": {
        "id": "OJkmxSEfwKzh",
        "colab_type": "text"
      },
      "source": [
        "### Adding a second LSTM layer and some Dropout regularisation\n"
      ]
    },
    {
      "cell_type": "code",
      "metadata": {
        "id": "OoglqtkGilA8",
        "colab_type": "code",
        "colab": {}
      },
      "source": [
        "regressor.add(LSTM(units = 50, return_sequences = True))\n",
        "regressor.add(Dropout(0.2))"
      ],
      "execution_count": null,
      "outputs": []
    },
    {
      "cell_type": "markdown",
      "metadata": {
        "id": "txlpgdoTwN9U",
        "colab_type": "text"
      },
      "source": [
        "### Adding a third LSTM layer and some Dropout regularisation\n"
      ]
    },
    {
      "cell_type": "code",
      "metadata": {
        "id": "9ecJKQ9jip8N",
        "colab_type": "code",
        "colab": {}
      },
      "source": [
        "regressor.add(LSTM(units = 50, return_sequences = True))\n",
        "regressor.add(Dropout(0.2))"
      ],
      "execution_count": null,
      "outputs": []
    },
    {
      "cell_type": "markdown",
      "metadata": {
        "id": "74S-MrRLwTyQ",
        "colab_type": "text"
      },
      "source": [
        "### Adding a fourth LSTM layer and some Dropout regularisation\n"
      ]
    },
    {
      "cell_type": "code",
      "metadata": {
        "id": "Bqlc8xDNitBl",
        "colab_type": "code",
        "colab": {}
      },
      "source": [
        "regressor.add(LSTM(units = 50))\n",
        "regressor.add(Dropout(0.2))"
      ],
      "execution_count": null,
      "outputs": []
    },
    {
      "cell_type": "markdown",
      "metadata": {
        "id": "eQn9BVjywagG",
        "colab_type": "text"
      },
      "source": [
        "### Adding the output layer\n"
      ]
    },
    {
      "cell_type": "code",
      "metadata": {
        "id": "EDkXsOH7ivRu",
        "colab_type": "code",
        "colab": {}
      },
      "source": [
        "regressor.add(Dense(units = 1))\n"
      ],
      "execution_count": null,
      "outputs": []
    },
    {
      "cell_type": "markdown",
      "metadata": {
        "id": "MFokfh2twekZ",
        "colab_type": "text"
      },
      "source": [
        "### Compiling the RNN\n"
      ]
    },
    {
      "cell_type": "code",
      "metadata": {
        "id": "gX2E8J2cixs1",
        "colab_type": "code",
        "colab": {}
      },
      "source": [
        "regressor.compile(optimizer = 'adam', loss = 'mean_squared_error')\n"
      ],
      "execution_count": null,
      "outputs": []
    },
    {
      "cell_type": "markdown",
      "metadata": {
        "id": "YS_xfB-jwiQu",
        "colab_type": "text"
      },
      "source": [
        "### Fitting the RNN to the Training set\n"
      ]
    },
    {
      "cell_type": "code",
      "metadata": {
        "id": "Ic26YKJUizru",
        "colab_type": "code",
        "colab": {
          "base_uri": "https://localhost:8080/",
          "height": 1000
        },
        "outputId": "5327693d-8bfa-4498-9e50-0e2805bbc096"
      },
      "source": [
        "regressor.fit(X_train, y_train, epochs = 100, batch_size = 32)\n"
      ],
      "execution_count": null,
      "outputs": [
        {
          "output_type": "stream",
          "text": [
            "Epoch 1/100\n",
            "38/38 [==============================] - 5s 136ms/step - loss: 0.0395\n",
            "Epoch 2/100\n",
            "38/38 [==============================] - 5s 142ms/step - loss: 0.0062\n",
            "Epoch 3/100\n",
            "38/38 [==============================] - 5s 142ms/step - loss: 0.0052\n",
            "Epoch 4/100\n",
            "38/38 [==============================] - 5s 136ms/step - loss: 0.0051\n",
            "Epoch 5/100\n",
            "38/38 [==============================] - 5s 135ms/step - loss: 0.0047\n",
            "Epoch 6/100\n",
            "38/38 [==============================] - 5s 136ms/step - loss: 0.0050\n",
            "Epoch 7/100\n",
            "38/38 [==============================] - 5s 138ms/step - loss: 0.0045\n",
            "Epoch 8/100\n",
            "38/38 [==============================] - 5s 142ms/step - loss: 0.0041\n",
            "Epoch 9/100\n",
            "38/38 [==============================] - 5s 134ms/step - loss: 0.0042\n",
            "Epoch 10/100\n",
            "38/38 [==============================] - 5s 134ms/step - loss: 0.0042\n",
            "Epoch 11/100\n",
            "38/38 [==============================] - 5s 136ms/step - loss: 0.0042\n",
            "Epoch 12/100\n",
            "38/38 [==============================] - 5s 132ms/step - loss: 0.0038\n",
            "Epoch 13/100\n",
            "38/38 [==============================] - 5s 133ms/step - loss: 0.0042\n",
            "Epoch 14/100\n",
            "38/38 [==============================] - 5s 137ms/step - loss: 0.0038\n",
            "Epoch 15/100\n",
            "38/38 [==============================] - 7s 171ms/step - loss: 0.0038\n",
            "Epoch 16/100\n",
            "38/38 [==============================] - 6s 170ms/step - loss: 0.0037\n",
            "Epoch 17/100\n",
            "38/38 [==============================] - 6s 168ms/step - loss: 0.0035\n",
            "Epoch 18/100\n",
            "38/38 [==============================] - 6s 156ms/step - loss: 0.0035\n",
            "Epoch 19/100\n",
            "38/38 [==============================] - 5s 130ms/step - loss: 0.0035\n",
            "Epoch 20/100\n",
            "38/38 [==============================] - 5s 129ms/step - loss: 0.0037\n",
            "Epoch 21/100\n",
            "38/38 [==============================] - 5s 134ms/step - loss: 0.0036\n",
            "Epoch 22/100\n",
            "38/38 [==============================] - 5s 130ms/step - loss: 0.0032\n",
            "Epoch 23/100\n",
            "38/38 [==============================] - 5s 130ms/step - loss: 0.0039\n",
            "Epoch 24/100\n",
            "38/38 [==============================] - 5s 133ms/step - loss: 0.0031\n",
            "Epoch 25/100\n",
            "38/38 [==============================] - 5s 133ms/step - loss: 0.0031\n",
            "Epoch 26/100\n",
            "38/38 [==============================] - 5s 132ms/step - loss: 0.0031\n",
            "Epoch 27/100\n",
            "38/38 [==============================] - 5s 135ms/step - loss: 0.0033\n",
            "Epoch 28/100\n",
            "38/38 [==============================] - 5s 137ms/step - loss: 0.0032\n",
            "Epoch 29/100\n",
            "38/38 [==============================] - 5s 131ms/step - loss: 0.0031\n",
            "Epoch 30/100\n",
            "38/38 [==============================] - 5s 132ms/step - loss: 0.0029\n",
            "Epoch 31/100\n",
            "38/38 [==============================] - 5s 131ms/step - loss: 0.0029\n",
            "Epoch 32/100\n",
            "38/38 [==============================] - 5s 127ms/step - loss: 0.0027\n",
            "Epoch 33/100\n",
            "38/38 [==============================] - 5s 127ms/step - loss: 0.0030\n",
            "Epoch 34/100\n",
            "38/38 [==============================] - 5s 127ms/step - loss: 0.0030\n",
            "Epoch 35/100\n",
            "38/38 [==============================] - 5s 127ms/step - loss: 0.0026\n",
            "Epoch 36/100\n",
            "38/38 [==============================] - 5s 126ms/step - loss: 0.0028\n",
            "Epoch 37/100\n",
            "38/38 [==============================] - 5s 127ms/step - loss: 0.0033\n",
            "Epoch 38/100\n",
            "38/38 [==============================] - 5s 124ms/step - loss: 0.0026\n",
            "Epoch 39/100\n",
            "38/38 [==============================] - 5s 125ms/step - loss: 0.0030\n",
            "Epoch 40/100\n",
            "38/38 [==============================] - 5s 126ms/step - loss: 0.0031\n",
            "Epoch 41/100\n",
            "38/38 [==============================] - 5s 125ms/step - loss: 0.0029\n",
            "Epoch 42/100\n",
            "38/38 [==============================] - 5s 129ms/step - loss: 0.0026\n",
            "Epoch 43/100\n",
            "38/38 [==============================] - 5s 136ms/step - loss: 0.0025\n",
            "Epoch 44/100\n",
            "38/38 [==============================] - 7s 186ms/step - loss: 0.0028\n",
            "Epoch 45/100\n",
            "38/38 [==============================] - 5s 135ms/step - loss: 0.0024\n",
            "Epoch 46/100\n",
            "38/38 [==============================] - 5s 133ms/step - loss: 0.0026\n",
            "Epoch 47/100\n",
            "38/38 [==============================] - 5s 129ms/step - loss: 0.0024\n",
            "Epoch 48/100\n",
            "38/38 [==============================] - 5s 132ms/step - loss: 0.0024\n",
            "Epoch 49/100\n",
            "38/38 [==============================] - 5s 132ms/step - loss: 0.0023\n",
            "Epoch 50/100\n",
            "38/38 [==============================] - 5s 131ms/step - loss: 0.0022\n",
            "Epoch 51/100\n",
            "38/38 [==============================] - 5s 138ms/step - loss: 0.0024\n",
            "Epoch 52/100\n",
            "38/38 [==============================] - 5s 136ms/step - loss: 0.0024\n",
            "Epoch 53/100\n",
            "38/38 [==============================] - 5s 137ms/step - loss: 0.0023\n",
            "Epoch 54/100\n",
            "38/38 [==============================] - 5s 140ms/step - loss: 0.0023\n",
            "Epoch 55/100\n",
            "38/38 [==============================] - 5s 133ms/step - loss: 0.0022\n",
            "Epoch 56/100\n",
            "38/38 [==============================] - 5s 136ms/step - loss: 0.0024\n",
            "Epoch 57/100\n",
            "38/38 [==============================] - 5s 134ms/step - loss: 0.0021\n",
            "Epoch 58/100\n",
            "38/38 [==============================] - 5s 133ms/step - loss: 0.0024\n",
            "Epoch 59/100\n",
            "38/38 [==============================] - 5s 132ms/step - loss: 0.0022\n",
            "Epoch 60/100\n",
            "38/38 [==============================] - 5s 134ms/step - loss: 0.0022\n",
            "Epoch 61/100\n",
            "38/38 [==============================] - 5s 130ms/step - loss: 0.0020\n",
            "Epoch 62/100\n",
            "38/38 [==============================] - 5s 132ms/step - loss: 0.0021\n",
            "Epoch 63/100\n",
            "38/38 [==============================] - 5s 133ms/step - loss: 0.0024\n",
            "Epoch 64/100\n",
            "38/38 [==============================] - 5s 136ms/step - loss: 0.0019\n",
            "Epoch 65/100\n",
            "38/38 [==============================] - 5s 135ms/step - loss: 0.0022\n",
            "Epoch 66/100\n",
            "38/38 [==============================] - 5s 137ms/step - loss: 0.0019\n",
            "Epoch 67/100\n",
            "38/38 [==============================] - 5s 131ms/step - loss: 0.0020\n",
            "Epoch 68/100\n",
            "38/38 [==============================] - 5s 135ms/step - loss: 0.0019\n",
            "Epoch 69/100\n",
            "38/38 [==============================] - 5s 133ms/step - loss: 0.0019\n",
            "Epoch 70/100\n",
            "38/38 [==============================] - 5s 135ms/step - loss: 0.0017\n",
            "Epoch 71/100\n",
            "38/38 [==============================] - 5s 136ms/step - loss: 0.0020\n",
            "Epoch 72/100\n",
            "38/38 [==============================] - 5s 135ms/step - loss: 0.0019\n",
            "Epoch 73/100\n",
            "38/38 [==============================] - 5s 134ms/step - loss: 0.0019\n",
            "Epoch 74/100\n",
            "38/38 [==============================] - 5s 138ms/step - loss: 0.0019\n",
            "Epoch 75/100\n",
            "38/38 [==============================] - 5s 131ms/step - loss: 0.0020\n",
            "Epoch 76/100\n",
            "38/38 [==============================] - 6s 152ms/step - loss: 0.0017\n",
            "Epoch 77/100\n",
            "38/38 [==============================] - 7s 175ms/step - loss: 0.0017\n",
            "Epoch 78/100\n",
            "38/38 [==============================] - 6s 167ms/step - loss: 0.0018\n",
            "Epoch 79/100\n",
            "38/38 [==============================] - 6s 167ms/step - loss: 0.0018\n",
            "Epoch 80/100\n",
            "38/38 [==============================] - 5s 134ms/step - loss: 0.0017\n",
            "Epoch 81/100\n",
            "38/38 [==============================] - 5s 128ms/step - loss: 0.0017\n",
            "Epoch 82/100\n",
            "38/38 [==============================] - 5s 129ms/step - loss: 0.0019\n",
            "Epoch 83/100\n",
            "38/38 [==============================] - 5s 131ms/step - loss: 0.0018\n",
            "Epoch 84/100\n",
            "38/38 [==============================] - 5s 129ms/step - loss: 0.0016\n",
            "Epoch 85/100\n",
            "38/38 [==============================] - 5s 132ms/step - loss: 0.0017\n",
            "Epoch 86/100\n",
            "38/38 [==============================] - 5s 132ms/step - loss: 0.0017\n",
            "Epoch 87/100\n",
            "38/38 [==============================] - 5s 129ms/step - loss: 0.0016\n",
            "Epoch 88/100\n",
            "38/38 [==============================] - 5s 131ms/step - loss: 0.0015\n",
            "Epoch 89/100\n",
            "38/38 [==============================] - 5s 131ms/step - loss: 0.0016\n",
            "Epoch 90/100\n",
            "38/38 [==============================] - 5s 127ms/step - loss: 0.0016\n",
            "Epoch 91/100\n",
            "38/38 [==============================] - 5s 130ms/step - loss: 0.0018\n",
            "Epoch 92/100\n",
            "38/38 [==============================] - 5s 133ms/step - loss: 0.0015\n",
            "Epoch 93/100\n",
            "38/38 [==============================] - 5s 130ms/step - loss: 0.0015\n",
            "Epoch 94/100\n",
            "38/38 [==============================] - 5s 133ms/step - loss: 0.0015\n",
            "Epoch 95/100\n",
            "38/38 [==============================] - 5s 129ms/step - loss: 0.0015\n",
            "Epoch 96/100\n",
            "38/38 [==============================] - 5s 129ms/step - loss: 0.0013\n",
            "Epoch 97/100\n",
            "38/38 [==============================] - 5s 131ms/step - loss: 0.0015\n",
            "Epoch 98/100\n",
            "38/38 [==============================] - 5s 130ms/step - loss: 0.0013\n",
            "Epoch 99/100\n",
            "38/38 [==============================] - 5s 128ms/step - loss: 0.0015\n",
            "Epoch 100/100\n",
            "38/38 [==============================] - 5s 131ms/step - loss: 0.0017\n"
          ],
          "name": "stdout"
        },
        {
          "output_type": "execute_result",
          "data": {
            "text/plain": [
              "<tensorflow.python.keras.callbacks.History at 0x7f64d09843c8>"
            ]
          },
          "metadata": {
            "tags": []
          },
          "execution_count": 26
        }
      ]
    },
    {
      "cell_type": "markdown",
      "metadata": {
        "id": "MCeai4S0wqLU",
        "colab_type": "text"
      },
      "source": [
        "### Making the predictions and visualising the results\n",
        "### Getting the real stock price of 2017\n"
      ]
    },
    {
      "cell_type": "code",
      "metadata": {
        "id": "4kaeAPn7i1rm",
        "colab_type": "code",
        "colab": {}
      },
      "source": [
        "dataset_test = pd.read_csv('Google_Stock_Price_Test.csv')\n",
        "real_stock_price = dataset_test.iloc[:, 1:2].values\n"
      ],
      "execution_count": null,
      "outputs": []
    },
    {
      "cell_type": "markdown",
      "metadata": {
        "id": "yKLaRQHew0vF",
        "colab_type": "text"
      },
      "source": [
        "### Getting the predicted stock price of 2017\n"
      ]
    },
    {
      "cell_type": "code",
      "metadata": {
        "id": "bh_O6qLDlEIx",
        "colab_type": "code",
        "colab": {}
      },
      "source": [
        "dataset_total = pd.concat((dataset_train['Open'], dataset_test['Open']), axis = 0)\n",
        "inputs = dataset_total[len(dataset_total) - len(dataset_test) - 60:].values\n",
        "inputs = inputs.reshape(-1,1)\n",
        "inputs = sc.transform(inputs)\n",
        "X_test = []\n",
        "for i in range(60, 80):\n",
        "    X_test.append(inputs[i-60:i, 0])\n",
        "X_test = np.array(X_test)\n",
        "X_test = np.reshape(X_test, (X_test.shape[0], X_test.shape[1], 1))\n",
        "predicted_stock_price = regressor.predict(X_test)\n",
        "predicted_stock_price = sc.inverse_transform(predicted_stock_price)"
      ],
      "execution_count": null,
      "outputs": []
    },
    {
      "cell_type": "markdown",
      "metadata": {
        "id": "fQEAjz9Fw6ag",
        "colab_type": "text"
      },
      "source": [
        "### Visualising the results\n"
      ]
    },
    {
      "cell_type": "code",
      "metadata": {
        "id": "eZCKSuaVlHe0",
        "colab_type": "code",
        "colab": {
          "base_uri": "https://localhost:8080/",
          "height": 295
        },
        "outputId": "2259a52b-8aa2-444a-9c46-ec84b12790bd"
      },
      "source": [
        "plt.plot(real_stock_price, color = 'red', label = 'Real Google Stock Price')\n",
        "plt.plot(predicted_stock_price, color = 'blue', label = 'Predicted Google Stock Price')\n",
        "plt.title('Google Stock Price Prediction')\n",
        "plt.xlabel('Time')\n",
        "plt.ylabel('Google Stock Price')\n",
        "plt.legend()\n",
        "plt.show()"
      ],
      "execution_count": null,
      "outputs": [
        {
          "output_type": "display_data",
          "data": {
            "image/png": "[encoded data removed]",
            "text/plain": [
              "<Figure size 432x288 with 1 Axes>"
            ]
          },
          "metadata": {
            "tags": [],
            "needs_background": "light"
          }
        }
      ]
    },
    {
      "cell_type": "code",
      "metadata": {
        "id": "gA3s12OPlWmJ",
        "colab_type": "code",
        "colab": {}
      },
      "source": [
        ""
      ],
      "execution_count": null,
      "outputs": []
    }
  ]
}